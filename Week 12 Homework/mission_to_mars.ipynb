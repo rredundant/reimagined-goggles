{
 "cells": [
  {
   "cell_type": "code",
   "execution_count": 1,
   "metadata": {},
   "outputs": [],
   "source": [
    "import requests\n",
    "from bs4 import BeautifulSoup\n",
    "import pandas as pd\n",
    "import re\n",
    "import requests\n",
    "from splinter import Browser"
   ]
  },
  {
   "cell_type": "markdown",
   "metadata": {},
   "source": [
    "# Article Title and Info"
   ]
  },
  {
   "cell_type": "code",
   "execution_count": 2,
   "metadata": {},
   "outputs": [],
   "source": [
    "# Pull first article title and blurb\n",
    "\n",
    "start = \"https://mars.nasa.gov/api/v1/news_items/?page=0&per_page=40&order=publish_date+desc%2Ccreated_at+desc&search=&category=19%2C165%2C184%2C204&blank_scope=Latest\"\n",
    "headers = {'User-Agent': 'Mozilla/5.0 (Macintosh; Intel Mac OS X 10_10_1) AppleWebKit/537.36 (KHTML, like Gecko) Chrome/39.0.2171.95 Safari/537.36'}\n",
    "\n",
    "resp = requests.get(start, headers=headers).json()\n",
    "\n",
    "# If needed to determine what to pull, run next line:\n",
    "# resp['items'][0]\n",
    "\n",
    "art_title = resp['items'][0]['title']\n",
    "art_para = resp['items'][0]['description']"
   ]
  },
  {
   "cell_type": "markdown",
   "metadata": {},
   "source": [
    "# Featured Image"
   ]
  },
  {
   "cell_type": "code",
   "execution_count": 3,
   "metadata": {},
   "outputs": [],
   "source": [
    "# Could not get this to work.\n",
    "\n",
    "# executable_path = {'executable_path':\"\\\\Users\\\\jarre\\\\chromedriver.exe\"}\n",
    "# browser = Browser('chrome', **executable_path)\n",
    "\n",
    "# browser.visit('https://www.jpl.nasa.gov/spaceimages/?search=&category=Mars')\n",
    "# button = browser.find_by_id('full_image')\n",
    "# button.click()\n",
    "\n",
    "# button = browser.find_by_text('more info')\n",
    "# button.click()"
   ]
  },
  {
   "cell_type": "code",
   "execution_count": 4,
   "metadata": {},
   "outputs": [],
   "source": [
    "# So instead, I went with Beautiful Soup\n",
    "\n",
    "url = 'https://www.jpl.nasa.gov/spaceimages/?search=&category=Mars'\n",
    "\n",
    "data = requests.get(url)\n",
    "soup = BeautifulSoup(data.content, \"html.parser\")\n",
    "\n",
    "# This targets the link.\n",
    "feat_pic = \"https://www.jpl.nasa.gov\" + soup.find('a', {'class': 'button fancybox'}).attrs.get('data-fancybox-href')\n",
    "\n",
    "# This makes sure it is the full-sized image.\n",
    "feat_pic = feat_pic.replace('medium', 'large')"
   ]
  },
  {
   "cell_type": "markdown",
   "metadata": {},
   "source": [
    "# Weather Snippet"
   ]
  },
  {
   "cell_type": "code",
   "execution_count": 5,
   "metadata": {},
   "outputs": [],
   "source": [
    "url = 'https://twitter.com/marswxreport?lang=en'\n",
    "\n",
    "weather = requests.get(url)\n",
    "soup = BeautifulSoup(weather.content, 'html.parser')\n",
    "\n",
    "weath_snip = soup.find('p', {'class': 'TweetTextSize TweetTextSize--normal js-tweet-text tweet-text'}).getText()"
   ]
  },
  {
   "cell_type": "markdown",
   "metadata": {},
   "source": [
    "# Mars Facts"
   ]
  },
  {
   "cell_type": "code",
   "execution_count": 6,
   "metadata": {},
   "outputs": [],
   "source": [
    "# Get Facts\n",
    "url = 'https://space-facts.com/mars/'\n",
    "tables = pd.read_html(url)\n",
    "\n",
    "# Convert to DataFrame\n",
    "df = pd.DataFrame(tables[0])\n",
    "\n",
    "# Back to HTML\n",
    "html_table = df.to_html()\n",
    "html_table = html_table.replace('\\n', '')"
   ]
  },
  {
   "cell_type": "markdown",
   "metadata": {},
   "source": [
    "# Hemispheres"
   ]
  },
  {
   "cell_type": "code",
   "execution_count": 75,
   "metadata": {},
   "outputs": [],
   "source": [
    "url = \"https://astrogeology.usgs.gov/search/results?q=hemisphere+enhanced&k1=target&v1=Mars\"\n",
    "resp = requests.get(url)\n",
    "soup = BeautifulSoup(resp.content, \"html.parser\")\n",
    "\n",
    "# Create list of Hemisphere Names\n",
    "hemi_names = soup.findAll('h3')\n",
    "hemi_names = [str(x) for x in hemi_names]\n",
    "hemi_names = [t.replace('<h3>', '') for t in hemi_names]\n",
    "hemi_names = [t.replace(' Enhanced</h3>', '') for t in hemi_names]\n",
    "\n",
    "# Create list of Hemisphere urls\n",
    "link_partial = soup.findAll('a', {'class': 'itemLink product-item'})\n",
    "link_partial = [str(x) for x in link_partial]\n",
    "link_partial = [t.split(\"href=\")[1] for t in link_partial]\n",
    "link_partial = [t.split(\"><img\")[0] for t in link_partial]\n",
    "link_partial = [t.replace('\"', '') for t in link_partial]\n",
    "link_partial = [t.split(\"/search/map\")[1] for t in link_partial]\n",
    "link_full = [\"http://astropedia.astrogeology.usgs.gov/download\" + t + \".tif\" for t in link_partial]\n",
    "\n",
    "# Combine\n",
    "hemispheres = []\n",
    "\n",
    "def hem_list(name, url):\n",
    "    dict = {}\n",
    "    for x in range(0,4):\n",
    "        dictio = {'title': name[x], 'img_url': url[x]}\n",
    "        hemispheres.append(dictio)\n",
    "        \n",
    "hem_list(hemi_names, link_full)"
   ]
  },
  {
   "cell_type": "code",
   "execution_count": 77,
   "metadata": {},
   "outputs": [
    {
     "data": {
      "text/plain": [
       "[{'title': 'Cerberus Hemisphere',\n",
       "  'img_url': 'http://astropedia.astrogeology.usgs.gov/download/Mars/Viking/cerberus_enhanced.tif'},\n",
       " {'title': 'Schiaparelli Hemisphere',\n",
       "  'img_url': 'http://astropedia.astrogeology.usgs.gov/download/Mars/Viking/schiaparelli_enhanced.tif'},\n",
       " {'title': 'Syrtis Major Hemisphere',\n",
       "  'img_url': 'http://astropedia.astrogeology.usgs.gov/download/Mars/Viking/syrtis_major_enhanced.tif'},\n",
       " {'title': 'Valles Marineris Hemisphere',\n",
       "  'img_url': 'http://astropedia.astrogeology.usgs.gov/download/Mars/Viking/valles_marineris_enhanced.tif'}]"
      ]
     },
     "execution_count": 77,
     "metadata": {},
     "output_type": "execute_result"
    }
   ],
   "source": [
    "hemispheres"
   ]
  },
  {
   "cell_type": "code",
   "execution_count": null,
   "metadata": {},
   "outputs": [],
   "source": []
  },
  {
   "cell_type": "code",
   "execution_count": null,
   "metadata": {},
   "outputs": [],
   "source": []
  },
  {
   "cell_type": "code",
   "execution_count": null,
   "metadata": {},
   "outputs": [],
   "source": []
  },
  {
   "cell_type": "code",
   "execution_count": null,
   "metadata": {},
   "outputs": [],
   "source": []
  },
  {
   "cell_type": "code",
   "execution_count": null,
   "metadata": {},
   "outputs": [],
   "source": []
  }
 ],
 "metadata": {
  "kernelspec": {
   "display_name": "Python 3",
   "language": "python",
   "name": "python3"
  },
  "language_info": {
   "codemirror_mode": {
    "name": "ipython",
    "version": 3
   },
   "file_extension": ".py",
   "mimetype": "text/x-python",
   "name": "python",
   "nbconvert_exporter": "python",
   "pygments_lexer": "ipython3",
   "version": "3.7.0"
  }
 },
 "nbformat": 4,
 "nbformat_minor": 2
}
