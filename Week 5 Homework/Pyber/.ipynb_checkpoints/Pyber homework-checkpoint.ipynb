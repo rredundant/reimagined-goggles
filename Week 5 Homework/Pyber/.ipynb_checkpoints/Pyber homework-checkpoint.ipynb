{
 "cells": [
  {
   "cell_type": "code",
   "execution_count": null,
   "metadata": {},
   "outputs": [],
   "source": [
    "%matplotlib inline\n",
    "import matplotlib.pyplot as plt\n",
    "import pandas as pd\n",
    "import numpy as np\n",
    "import matplotlib.patches as mpatches\n",
    "\n",
    "city_data_to_load = \"data/city_data.csv\"\n",
    "ride_data_to_load = \"data/ride_data.csv\"\n",
    "\n",
    "city_df = pd.read_csv(city_data_to_load)\n",
    "ride_df = pd.read_csv(ride_data_to_load)"
   ]
  },
  {
   "cell_type": "code",
   "execution_count": null,
   "metadata": {},
   "outputs": [],
   "source": [
    "pyber_df = pd.merge(ride_df, city_df, on=\"city\", how=\"outer\")\n",
    "colors = {\"Urban\": \"coral\", \"Suburban\": \"blue\", \"Rural\": \"gold\"}\n",
    "pyber_df['Color'] = pyber_df['type'].map(colors)\n",
    "pyber_df.head(7)"
   ]
  },
  {
   "cell_type": "code",
   "execution_count": null,
   "metadata": {},
   "outputs": [],
   "source": [
    "bub_pyber = pyber_df.groupby('city').agg({'ride_id': ['count'],'fare':['mean'],'Color':'first'}).reset_index()\n",
    "bub_pyber.columns = bub_pyber.columns.map('_'.join)"
   ]
  },
  {
   "cell_type": "code",
   "execution_count": null,
   "metadata": {},
   "outputs": [],
   "source": [
    "bub_pyber.head()"
   ]
  },
  {
   "cell_type": "code",
   "execution_count": null,
   "metadata": {},
   "outputs": [],
   "source": [
    "plt.scatter(bub_pyber.ride_id_count, \n",
    "            bub_pyber.fare_mean, \n",
    "            c = bub_pyber.Color_first, \n",
    "            s = city_df.driver_count * 10,\n",
    "           alpha = .33)\n",
    "plt.xlabel('Number of Rides (Per City)')\n",
    "plt.ylabel('Average Fare ($)')\n",
    "plt.title('Pyber Ride Sharing Data (2016)')\n",
    "plt.xlim(0, 40)\n",
    "plt.ylim(18, 42)\n",
    "\n",
    "rural = mpatches.Patch(color='gold', label='Rural')\n",
    "suburban = mpatches.Patch(color='blue',label='Suburban')\n",
    "urban = mpatches.Patch(color = 'coral',label = 'Urban')\n",
    "plt.legend(handles=[rural,suburban,urban], title = 'City Types (& Amt. Drivers)')"
   ]
  },
  {
   "cell_type": "code",
   "execution_count": null,
   "metadata": {},
   "outputs": [],
   "source": [
    "pie_pyber = pyber_df.groupby('type').agg({'fare': ['sum'],'ride_id': ['count'],'Color':'first'}).reset_index()\n",
    "pie_pyber.columns = pie_pyber.columns.map('_'.join)\n",
    "pie_1 = pie_pyber.fare_sum\n"
   ]
  },
  {
   "cell_type": "code",
   "execution_count": null,
   "metadata": {},
   "outputs": [],
   "source": [
    "pie_pyber"
   ]
  },
  {
   "cell_type": "code",
   "execution_count": null,
   "metadata": {},
   "outputs": [],
   "source": [
    "city_df['Color'] = city_df['type'].map(colors)\n",
    "pie_city = city_df.groupby('type').agg({'driver_count': ['sum'],'Color':'first'}).reset_index()\n",
    "pie_city.columns = pie_city.columns.map('_'.join)"
   ]
  },
  {
   "cell_type": "code",
   "execution_count": null,
   "metadata": {},
   "outputs": [],
   "source": [
    "pie_city"
   ]
  },
  {
   "cell_type": "code",
   "execution_count": null,
   "metadata": {},
   "outputs": [],
   "source": [
    "plt.pie(pie_pyber.fare_sum, labels=pie_pyber.type_, colors=pie_pyber.Color_first,\n",
    "        autopct=\"%1.1f%%\", shadow=True, startangle=140)\n",
    "plt.title('% of Total Fares by City Type')"
   ]
  },
  {
   "cell_type": "code",
   "execution_count": null,
   "metadata": {},
   "outputs": [],
   "source": [
    "plt.pie(pie_pyber.ride_id_count, labels=pie_pyber.type_, colors=pie_pyber.Color_first,\n",
    "        autopct=\"%1.1f%%\", shadow=True, startangle=140)\n",
    "plt.title('% of Total Rides by City Type')"
   ]
  },
  {
   "cell_type": "code",
   "execution_count": null,
   "metadata": {},
   "outputs": [],
   "source": [
    "plt.pie(pie_city.driver_count_sum, labels=pie_city.type_, colors=pie_city.Color_first,\n",
    "        autopct=\"%1.1f%%\", shadow=True, startangle=140)\n",
    "plt.title('% of Total Drivers by City Type')"
   ]
  },
  {
   "cell_type": "markdown",
   "metadata": {},
   "source": [
    "# Observations\n",
    "\n",
    "1. There are more drivers per city doing fewer rides in rural and suburban areas.\n",
    "2. Suburban rides are the most profitable on average despite urban rides being more frequent.\n",
    "3. It pays to be a rural driver."
   ]
  }
 ],
 "metadata": {
  "kernelspec": {
   "display_name": "Python 3",
   "language": "python",
   "name": "python3"
  },
  "language_info": {
   "codemirror_mode": {
    "name": "ipython",
    "version": 3
   },
   "file_extension": ".py",
   "mimetype": "text/x-python",
   "name": "python",
   "nbconvert_exporter": "python",
   "pygments_lexer": "ipython3",
   "version": "3.7.0"
  }
 },
 "nbformat": 4,
 "nbformat_minor": 2
}
